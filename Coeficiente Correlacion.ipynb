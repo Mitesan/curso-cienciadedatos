{
 "cells": [
  {
   "cell_type": "markdown",
   "id": "1210bca1",
   "metadata": {},
   "source": [
    "<h1>Ejemplo correlación lineal</h1>\n",
    "\n",
    "Un estudio pretende analizar si existe una correlación lineal positiva entre la altura y el peso de las personas."
   ]
  },
  {
   "cell_type": "markdown",
   "id": "3ddaefad",
   "metadata": {},
   "source": [
    "<h3>Librerías</h3>"
   ]
  },
  {
   "cell_type": "code",
   "execution_count": 13,
   "id": "4db9338f",
   "metadata": {},
   "outputs": [],
   "source": [
    "# Tratamiento de datos\n",
    "import pandas as pd\n",
    "import numpy as np\n",
    "from sklearn.datasets import load_diabetes\n",
    "\n",
    "# Gráficos\n",
    "import matplotlib.pyplot as plt\n",
    "from matplotlib import style\n",
    "import seaborn as sns\n",
    "plt.style.use(\"seaborn-dark\") #para que los gráficos se visualicen en el tema de fondo negro."
   ]
  },
  {
   "cell_type": "markdown",
   "id": "97e7b218",
   "metadata": {},
   "source": [
    "<h3>Datos</h3>"
   ]
  },
  {
   "cell_type": "code",
   "execution_count": 14,
   "id": "70cb94f0",
   "metadata": {},
   "outputs": [
    {
     "data": {
      "text/html": [
       "<div>\n",
       "<style scoped>\n",
       "    .dataframe tbody tr th:only-of-type {\n",
       "        vertical-align: middle;\n",
       "    }\n",
       "\n",
       "    .dataframe tbody tr th {\n",
       "        vertical-align: top;\n",
       "    }\n",
       "\n",
       "    .dataframe thead th {\n",
       "        text-align: right;\n",
       "    }\n",
       "</style>\n",
       "<table border=\"1\" class=\"dataframe\">\n",
       "  <thead>\n",
       "    <tr style=\"text-align: right;\">\n",
       "      <th></th>\n",
       "      <th>height</th>\n",
       "      <th>weight</th>\n",
       "      <th>age</th>\n",
       "      <th>male</th>\n",
       "    </tr>\n",
       "  </thead>\n",
       "  <tbody>\n",
       "    <tr>\n",
       "      <th>0</th>\n",
       "      <td>151.765</td>\n",
       "      <td>47.825606</td>\n",
       "      <td>63.0</td>\n",
       "      <td>1</td>\n",
       "    </tr>\n",
       "    <tr>\n",
       "      <th>1</th>\n",
       "      <td>139.700</td>\n",
       "      <td>36.485807</td>\n",
       "      <td>63.0</td>\n",
       "      <td>0</td>\n",
       "    </tr>\n",
       "    <tr>\n",
       "      <th>2</th>\n",
       "      <td>136.525</td>\n",
       "      <td>31.864838</td>\n",
       "      <td>65.0</td>\n",
       "      <td>0</td>\n",
       "    </tr>\n",
       "    <tr>\n",
       "      <th>3</th>\n",
       "      <td>156.845</td>\n",
       "      <td>53.041914</td>\n",
       "      <td>41.0</td>\n",
       "      <td>1</td>\n",
       "    </tr>\n",
       "    <tr>\n",
       "      <th>4</th>\n",
       "      <td>145.415</td>\n",
       "      <td>41.276872</td>\n",
       "      <td>51.0</td>\n",
       "      <td>0</td>\n",
       "    </tr>\n",
       "  </tbody>\n",
       "</table>\n",
       "</div>"
      ],
      "text/plain": [
       "    height     weight   age  male\n",
       "0  151.765  47.825606  63.0     1\n",
       "1  139.700  36.485807  63.0     0\n",
       "2  136.525  31.864838  65.0     0\n",
       "3  156.845  53.041914  41.0     1\n",
       "4  145.415  41.276872  51.0     0"
      ]
     },
     "execution_count": 14,
     "metadata": {},
     "output_type": "execute_result"
    }
   ],
   "source": [
    "url = ('https://raw.githubusercontent.com/JoaquinAmatRodrigo/' +\n",
    "       'Estadistica-machine-learning-python/master/data/Howell1.csv')\n",
    "datos = pd.read_csv(url)\n",
    "\n",
    "# Se utilizan únicamente información de individuos mayores de 18 años.\n",
    "datos = datos[datos.age > 18]\n",
    "datos.head()"
   ]
  },
  {
   "cell_type": "code",
   "execution_count": 15,
   "id": "dca5c9e4",
   "metadata": {},
   "outputs": [
    {
     "name": "stdout",
     "output_type": "stream",
     "text": [
      "<class 'pandas.core.frame.DataFrame'>\n",
      "Int64Index: 346 entries, 0 to 543\n",
      "Data columns (total 4 columns):\n",
      " #   Column  Non-Null Count  Dtype  \n",
      "---  ------  --------------  -----  \n",
      " 0   height  346 non-null    float64\n",
      " 1   weight  346 non-null    float64\n",
      " 2   age     346 non-null    float64\n",
      " 3   male    346 non-null    int64  \n",
      "dtypes: float64(3), int64(1)\n",
      "memory usage: 13.5 KB\n"
     ]
    }
   ],
   "source": [
    "datos.info()"
   ]
  },
  {
   "cell_type": "markdown",
   "id": "faf44464",
   "metadata": {},
   "source": [
    "<h3>Análisis gráfico</h3>\n",
    "En primer lugar se representan las dos variables mediante un diagrama de dispersión (scatterplot) para intuir si existe relación lineal o monotónica. Si no la hay, no tiene sentido calcular este tipo de correlaciones."
   ]
  },
  {
   "cell_type": "code",
   "execution_count": 16,
   "id": "7e2b5651",
   "metadata": {},
   "outputs": [
    {
     "data": {
      "image/png": "[encoded data removed]",
      "text/plain": [
       "<Figure size 432x288 with 1 Axes>"
      ]
     },
     "metadata": {},
     "output_type": "display_data"
    }
   ],
   "source": [
    "# Gráfico\n",
    "fig, ax = plt.subplots(1, 1, figsize=(6,4))\n",
    "ax.scatter(x=datos.height, y=datos.weight, alpha= 0.8)\n",
    "ax.set_xlabel('Altura')\n",
    "ax.set_ylabel('Peso');"
   ]
  },
  {
   "cell_type": "markdown",
   "id": "cbf4646c",
   "metadata": {},
   "source": [
    "<h3>Normalidad</h3>"
   ]
  },
  {
   "cell_type": "code",
   "execution_count": 17,
   "id": "e6d9540c",
   "metadata": {},
   "outputs": [
    {
     "data": {
      "image/png": "[encoded data removed]",
      "text/plain": [
       "<Figure size 720x288 with 2 Axes>"
      ]
     },
     "metadata": {},
     "output_type": "display_data"
    }
   ],
   "source": [
    "# Gráfico distribución variables\n",
    "fig, axs = plt.subplots(nrows=1, ncols=2, figsize=(10, 4))\n",
    "\n",
    "axs[0].hist(x=datos.height, bins=20, color=\"#3182bd\", alpha=0.5)\n",
    "axs[0].plot(datos.height, np.full_like(datos.height, -0.01), '|k', markeredgewidth=1)\n",
    "axs[0].set_title('Distribución altura (height)')\n",
    "axs[0].set_xlabel('height')\n",
    "axs[0].set_ylabel('counts')\n",
    "\n",
    "axs[1].hist(x=datos.weight, bins=20, color=\"#3182bd\", alpha=0.5)\n",
    "axs[1].plot(datos.weight, np.full_like(datos.weight, -0.01), '|k', markeredgewidth=1)\n",
    "axs[1].set_title('Distribución peso (weight)')\n",
    "axs[1].set_xlabel('weight')\n",
    "axs[1].set_ylabel('counts')\n",
    "\n",
    "plt.tight_layout();"
   ]
  },
  {
   "cell_type": "markdown",
   "id": "1f0f677a",
   "metadata": {},
   "source": [
    "Además del estudio gráfico, se recurre a un test estadístico que contraste la normalidad de los datos: Shapiro-Wilk test.\n",
    "\n",
    "La hipótesis nula considera que los datos siguen una distribución normal, por lo tanto, si el p-value no es inferior al nivel de referencia alpha seleccionado, no hay evidencias para descartar que los datos se distribuyen de forma normal."
   ]
  },
  {
   "cell_type": "code",
   "execution_count": 21,
   "id": "dc79821d",
   "metadata": {},
   "outputs": [
    {
     "name": "stdout",
     "output_type": "stream",
     "text": [
      "Variable height: ShapiroResult(statistic=0.9910696148872375, pvalue=0.03439393267035484)\n",
      "Variable weight: ShapiroResult(statistic=0.9911819696426392, pvalue=0.03673496097326279)\n"
     ]
    }
   ],
   "source": [
    "# Normalidad de los residuos Shapiro-Wilk test\n",
    "import statsmodels.api as sm\n",
    "from scipy import stats\n",
    "\n",
    "shapiro_test = stats.shapiro(datos.height)\n",
    "print(f\"Variable height: {shapiro_test}\")\n",
    "shapiro_test = stats.shapiro(datos.weight)\n",
    "print(f\"Variable weight: {shapiro_test}\")"
   ]
  },
  {
   "cell_type": "markdown",
   "id": "400460bb",
   "metadata": {},
   "source": [
    "El análisis gráfico y los test estadísticos muestran evidencias de que no se puede asumir normalidad en ninguna de las dos variables. \n",
    "\n",
    "Siendo estrictos, este hecho excluye la posibilidad de utilizar el coeficiente de Pearson, dejando como alternativas el de Spearman o Kendall. Sin embargo, dado que la distribución no se aleja mucho de la normalidad y de que el coeficiente de Pearson tiene cierta robustez, a fines prácticos sí que se podría utilizar siempre y cuando se tenga en cuenta este hecho y se comunique en los resultados.\n"
   ]
  },
  {
   "cell_type": "markdown",
   "id": "d8cfcacc",
   "metadata": {},
   "source": [
    "<h3>Coeficientes Correlación</h3>\n",
    "\n",
    "Debido a la falta de normalidad, los resultados generados por Pearson no son del todo precisos. Sin embargo, dado que la desviación de la normalidad es leve y no se aprecian outliers, con fines ilustrativos, se procede a calcular los tres tipos de coeficientes.\n",
    "\n",
    "De nuevo recordar que, cuando alguna de las condiciones asumidas por un modelo o test estadístico no se cumplen, no significa que obligatoriamente se tenga que descartar, pero hay que ser consciente de las implicaciones que tiene y reportarlo siempre en los resultados."
   ]
  },
  {
   "cell_type": "code",
   "execution_count": 28,
   "id": "d356b11a",
   "metadata": {},
   "outputs": [
    {
     "name": "stdout",
     "output_type": "stream",
     "text": [
      "Correlación Pearson:  0.7528177220327671\n",
      "Correlación spearman:  0.7510966609219974\n"
     ]
    }
   ],
   "source": [
    "# Cálculo de correlación con Pandas\n",
    "# limitante: No calcula la significancia estadística.\n",
    "print('Correlación Pearson: ', datos['weight'].corr(datos['height'], method='pearson'))\n",
    "print('Correlación spearman: ', datos['weight'].corr(datos['height'], method='spearman'))"
   ]
  },
  {
   "cell_type": "code",
   "execution_count": 29,
   "id": "0f0768d2",
   "metadata": {},
   "outputs": [
    {
     "name": "stdout",
     "output_type": "stream",
     "text": [
      "Correlación Pearson: r=0.7528177220327669, p-value=1.894103779417654e-64\n",
      "Correlación Spearman: r=0.7510966609219974, p-value=5.2882247217804375e-64\n"
     ]
    }
   ],
   "source": [
    "# Cálculo de correlación y significancia con Scipy\n",
    "# Sí permite calcular la significancia estadística además del coeficiente de correlación\n",
    "from scipy.stats import pearsonr\n",
    "r, p = stats.pearsonr(datos['weight'], datos['height'])\n",
    "print(f\"Correlación Pearson: r={r}, p-value={p}\")\n",
    "r, p = stats.spearmanr(datos['weight'], datos['height'])\n",
    "print(f\"Correlación Spearman: r={r}, p-value={p}\")"
   ]
  },
  {
   "cell_type": "markdown",
   "id": "3cd2704c",
   "metadata": {},
   "source": [
    "<h3>Conclusión</h3>\n",
    "Los test estadísticos muestran una correlación lineal entre moderada y alta, con claras evidencias estadísticas de que la relación observada no se debe al azar ( pvalue≈0 )."
   ]
  }
 ],
 "metadata": {
  "kernelspec": {
   "display_name": "Python 3 (ipykernel)",
   "language": "python",
   "name": "python3"
  },
  "language_info": {
   "codemirror_mode": {
    "name": "ipython",
    "version": 3
   },
   "file_extension": ".py",
   "mimetype": "text/x-python",
   "name": "python",
   "nbconvert_exporter": "python",
   "pygments_lexer": "ipython3",
   "version": "3.9.7"
  }
 },
 "nbformat": 4,
 "nbformat_minor": 5
}
